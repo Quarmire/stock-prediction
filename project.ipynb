{
 "cells": [
  {
   "cell_type": "markdown",
   "metadata": {},
   "source": [
    "# Stock Price Prediction\n",
    "Using Hidden Markov Model, Kalman Filter, and Dynamic Bayesian Networks\\\n",
    "By: Peter"
   ]
  },
  {
   "cell_type": "code",
   "execution_count": 188,
   "metadata": {},
   "outputs": [],
   "source": [
    "import yfinance as yf\n",
    "import numpy as np\n",
    "import pandas as pd\n",
    "import matplotlib.pyplot as plt\n",
    "from tqdm import tqdm"
   ]
  },
  {
   "cell_type": "code",
   "execution_count": 189,
   "metadata": {},
   "outputs": [],
   "source": [
    "# Define constants 5, 10, 20, 30, 50, 100, 200, 300, 500, \n",
    "# START_DATE = \"2018-12-30\"\n",
    "START_DATE = \"1927-12-30\"\n",
    "END_DATE = \"2025-03-31\"\n",
    "TICKER = \"^GSPC\"\n",
    "WINDOW_SIZES = [1000]"
   ]
  },
  {
   "cell_type": "code",
   "execution_count": 190,
   "metadata": {},
   "outputs": [],
   "source": [
    "# Download S&P 500 data using yfinance\n",
    "def download_data():\n",
    "    df = yf.download(TICKER, start=START_DATE, end=END_DATE, auto_adjust=False)\n",
    "    df = df[[\"Adj Close\"]].dropna()\n",
    "    df.reset_index(inplace=True)\n",
    "    return df\n",
    "\n",
    "# Compute Mean Absolute Percentage Error\n",
    "def mape(actual, predicted):\n",
    "    return np.abs((actual - predicted) / actual) * 100\n",
    "\n",
    "# Base Class\n",
    "class BaseModel:\n",
    "    def fit(self, series):\n",
    "        pass\n",
    "\n",
    "    def predict(self):\n",
    "        pass\n",
    "\n",
    "# HMM\n",
    "from hmmlearn.hmm import GaussianHMM\n",
    "\n",
    "class HMMModel(BaseModel):\n",
    "    def __init__(self, n_components=2):\n",
    "        self.model = GaussianHMM(n_components=n_components)\n",
    "\n",
    "    def fit(self, series):\n",
    "        self.series = np.array(series).reshape(-1, 1)\n",
    "        self.model.fit(self.series)\n",
    "\n",
    "    def predict(self):\n",
    "        logprob, hidden_states = self.model.decode(self.series)\n",
    "        last_state = hidden_states[-1]\n",
    "        return self.model.means_[last_state][0]\n",
    "\n",
    "# Kalman Filter\n",
    "from pykalman import KalmanFilter\n",
    "\n",
    "class KalmanModel(BaseModel):\n",
    "    def __init__(self):\n",
    "        self.kf = KalmanFilter(transition_matrices=[1],\n",
    "                               observation_matrices=[1],\n",
    "                               initial_state_mean=0,\n",
    "                               initial_state_covariance=1,\n",
    "                               observation_covariance=1,\n",
    "                               transition_covariance=0.0001)\n",
    "\n",
    "    def fit(self, series):\n",
    "        self.series = np.array(series)\n",
    "        self.kf = self.kf.em(self.series, n_iter=5)\n",
    "        self.filtered_state_means, _ = self.kf.filter(self.series)\n",
    "\n",
    "    def predict(self):\n",
    "        next_state = self.kf.transition_matrices[0] * self.filtered_state_means[-1]\n",
    "        return next_state[0]\n",
    "\n",
    "# Dynamic Bayesian Network\n",
    "import pymc as pm\n",
    "\n",
    "class DBNModel(BaseModel):\n",
    "    def fit(self, series):\n",
    "        self.series = np.array(series)\n",
    "        y_t = self.series[1:]\n",
    "        y_tm1 = self.series[:-1]\n",
    "\n",
    "        with pm.Model() as self.model:\n",
    "            alpha = pm.Normal(\"alpha\", mu=0, sigma=10)\n",
    "            beta = pm.Normal(\"beta\", mu=0, sigma=1)\n",
    "            sigma = pm.HalfNormal(\"sigma\", sigma=1)\n",
    "\n",
    "            mu = alpha + beta * y_tm1\n",
    "            y_obs = pm.Normal(\"y_obs\", mu=mu, sigma=sigma, observed=y_t)\n",
    "\n",
    "            map_estimate = pm.find_MAP(progressbar=False)\n",
    "            self.alpha = map_estimate[\"alpha\"]\n",
    "            self.beta = map_estimate[\"beta\"]\n",
    "\n",
    "    def predict(self):\n",
    "        last = self.series[-1]\n",
    "        return self.alpha + self.beta * last\n",
    "\n",
    "\n",
    "# Evaluate model for a given window size\n",
    "from joblib import Parallel, delayed\n",
    "\n",
    "def evaluate_model(model_class, series, n, stride=10, parallel=True):\n",
    "    def process_window(i):\n",
    "        window_data = series[i - n:i]\n",
    "        actual = series[i]\n",
    "        model = model_class()\n",
    "        try:\n",
    "            model.fit(window_data)\n",
    "            pred = model.predict()\n",
    "            error = mape(actual, pred) if not np.isnan(pred) else None\n",
    "        except Exception as e:\n",
    "            error = None  # Skip window on failure\n",
    "        if i % 1000 == 0:\n",
    "            print(f\"[{i}] Completed\")\n",
    "        return error\n",
    "\n",
    "    indices = range(n, len(series) - 1, stride)\n",
    "    \n",
    "    if parallel:\n",
    "        errors = Parallel(n_jobs=-1)(\n",
    "            delayed(process_window)(i) for i in indices\n",
    "        )\n",
    "    else:\n",
    "        errors = [process_window(i) for i in indices]\n",
    "\n",
    "    errors = [e for e in errors if e is not None]\n",
    "    return np.mean(errors) if errors else np.nan\n"
   ]
  },
  {
   "cell_type": "code",
   "execution_count": 191,
   "metadata": {},
   "outputs": [
    {
     "name": "stderr",
     "output_type": "stream",
     "text": [
      "[*********************100%***********************]  1 of 1 completed\n"
     ]
    }
   ],
   "source": [
    "df = download_data()\n",
    "prices = df[\"Adj Close\"].values"
   ]
  },
  {
   "cell_type": "code",
   "execution_count": 192,
   "metadata": {},
   "outputs": [],
   "source": [
    "results = {\"n\": WINDOW_SIZES}\n",
    "models = {\n",
    "    # \"HMM\": HMMModel,\n",
    "    # \"Kalman\": KalmanModel,\n",
    "    \"DBN\": DBNModel\n",
    "}"
   ]
  },
  {
   "cell_type": "code",
   "execution_count": 193,
   "metadata": {},
   "outputs": [
    {
     "name": "stdout",
     "output_type": "stream",
     "text": [
      "Series length: 24426\n",
      "\n",
      "Evaluating DBN...\n",
      "[1000] Completed\n",
      "[2000] Completed\n",
      "[3000] Completed\n",
      "[4000] Completed\n",
      "[5000] Completed\n",
      "[6000] Completed\n",
      "[7000] Completed\n",
      "[8000] Completed\n",
      "[9000] Completed\n",
      "[10000] Completed\n",
      "[11000] Completed\n"
     ]
    },
    {
     "ename": "KeyboardInterrupt",
     "evalue": "",
     "output_type": "error",
     "traceback": [
      "\u001b[31m---------------------------------------------------------------------------\u001b[39m",
      "\u001b[31mKeyboardInterrupt\u001b[39m                         Traceback (most recent call last)",
      "\u001b[36mCell\u001b[39m\u001b[36m \u001b[39m\u001b[32mIn[193]\u001b[39m\u001b[32m, line 7\u001b[39m\n\u001b[32m      5\u001b[39m \u001b[38;5;28mprint\u001b[39m(\u001b[33mf\u001b[39m\u001b[33m\"\u001b[39m\u001b[38;5;130;01m\\n\u001b[39;00m\u001b[33mEvaluating \u001b[39m\u001b[38;5;132;01m{\u001b[39;00mname\u001b[38;5;132;01m}\u001b[39;00m\u001b[33m...\u001b[39m\u001b[33m\"\u001b[39m)\n\u001b[32m      6\u001b[39m \u001b[38;5;28;01mfor\u001b[39;00m n \u001b[38;5;129;01min\u001b[39;00m WINDOW_SIZES:\n\u001b[32m----> \u001b[39m\u001b[32m7\u001b[39m     avg_mape = \u001b[43mevaluate_model\u001b[49m\u001b[43m(\u001b[49m\u001b[43mModelClass\u001b[49m\u001b[43m,\u001b[49m\u001b[43m \u001b[49m\u001b[43mprices\u001b[49m\u001b[43m,\u001b[49m\u001b[43m \u001b[49m\u001b[43mn\u001b[49m\u001b[43m)\u001b[49m\n\u001b[32m      8\u001b[39m     avg_mapes.append(avg_mape)\n\u001b[32m      9\u001b[39m results[name] = avg_mapes\n",
      "\u001b[36mCell\u001b[39m\u001b[36m \u001b[39m\u001b[32mIn[190]\u001b[39m\u001b[32m, line 104\u001b[39m, in \u001b[36mevaluate_model\u001b[39m\u001b[34m(model_class, series, n, stride, parallel)\u001b[39m\n\u001b[32m    101\u001b[39m indices = \u001b[38;5;28mrange\u001b[39m(n, \u001b[38;5;28mlen\u001b[39m(series) - \u001b[32m1\u001b[39m, stride)\n\u001b[32m    103\u001b[39m \u001b[38;5;28;01mif\u001b[39;00m parallel:\n\u001b[32m--> \u001b[39m\u001b[32m104\u001b[39m     errors = \u001b[43mParallel\u001b[49m\u001b[43m(\u001b[49m\u001b[43mn_jobs\u001b[49m\u001b[43m=\u001b[49m\u001b[43m-\u001b[49m\u001b[32;43m1\u001b[39;49m\u001b[43m)\u001b[49m\u001b[43m(\u001b[49m\n\u001b[32m    105\u001b[39m \u001b[43m        \u001b[49m\u001b[43mdelayed\u001b[49m\u001b[43m(\u001b[49m\u001b[43mprocess_window\u001b[49m\u001b[43m)\u001b[49m\u001b[43m(\u001b[49m\u001b[43mi\u001b[49m\u001b[43m)\u001b[49m\u001b[43m \u001b[49m\u001b[38;5;28;43;01mfor\u001b[39;49;00m\u001b[43m \u001b[49m\u001b[43mi\u001b[49m\u001b[43m \u001b[49m\u001b[38;5;129;43;01min\u001b[39;49;00m\u001b[43m \u001b[49m\u001b[43mindices\u001b[49m\n\u001b[32m    106\u001b[39m \u001b[43m    \u001b[49m\u001b[43m)\u001b[49m\n\u001b[32m    107\u001b[39m \u001b[38;5;28;01melse\u001b[39;00m:\n\u001b[32m    108\u001b[39m     errors = [process_window(i) \u001b[38;5;28;01mfor\u001b[39;00m i \u001b[38;5;129;01min\u001b[39;00m indices]\n",
      "\u001b[36mFile \u001b[39m\u001b[32m/nix/store/n7mxhqdpadrpg9a20bg6drqhl6pknvhk-python3-3.12.9-env/lib/python3.12/site-packages/joblib/parallel.py:2007\u001b[39m, in \u001b[36mParallel.__call__\u001b[39m\u001b[34m(self, iterable)\u001b[39m\n\u001b[32m   2001\u001b[39m \u001b[38;5;66;03m# The first item from the output is blank, but it makes the interpreter\u001b[39;00m\n\u001b[32m   2002\u001b[39m \u001b[38;5;66;03m# progress until it enters the Try/Except block of the generator and\u001b[39;00m\n\u001b[32m   2003\u001b[39m \u001b[38;5;66;03m# reaches the first `yield` statement. This starts the asynchronous\u001b[39;00m\n\u001b[32m   2004\u001b[39m \u001b[38;5;66;03m# dispatch of the tasks to the workers.\u001b[39;00m\n\u001b[32m   2005\u001b[39m \u001b[38;5;28mnext\u001b[39m(output)\n\u001b[32m-> \u001b[39m\u001b[32m2007\u001b[39m \u001b[38;5;28;01mreturn\u001b[39;00m output \u001b[38;5;28;01mif\u001b[39;00m \u001b[38;5;28mself\u001b[39m.return_generator \u001b[38;5;28;01melse\u001b[39;00m \u001b[38;5;28;43mlist\u001b[39;49m\u001b[43m(\u001b[49m\u001b[43moutput\u001b[49m\u001b[43m)\u001b[49m\n",
      "\u001b[36mFile \u001b[39m\u001b[32m/nix/store/n7mxhqdpadrpg9a20bg6drqhl6pknvhk-python3-3.12.9-env/lib/python3.12/site-packages/joblib/parallel.py:1650\u001b[39m, in \u001b[36mParallel._get_outputs\u001b[39m\u001b[34m(self, iterator, pre_dispatch)\u001b[39m\n\u001b[32m   1647\u001b[39m     \u001b[38;5;28;01myield\u001b[39;00m\n\u001b[32m   1649\u001b[39m     \u001b[38;5;28;01mwith\u001b[39;00m \u001b[38;5;28mself\u001b[39m._backend.retrieval_context():\n\u001b[32m-> \u001b[39m\u001b[32m1650\u001b[39m         \u001b[38;5;28;01myield from\u001b[39;00m \u001b[38;5;28mself\u001b[39m._retrieve()\n\u001b[32m   1652\u001b[39m \u001b[38;5;28;01mexcept\u001b[39;00m \u001b[38;5;167;01mGeneratorExit\u001b[39;00m:\n\u001b[32m   1653\u001b[39m     \u001b[38;5;66;03m# The generator has been garbage collected before being fully\u001b[39;00m\n\u001b[32m   1654\u001b[39m     \u001b[38;5;66;03m# consumed. This aborts the remaining tasks if possible and warn\u001b[39;00m\n\u001b[32m   1655\u001b[39m     \u001b[38;5;66;03m# the user if necessary.\u001b[39;00m\n\u001b[32m   1656\u001b[39m     \u001b[38;5;28mself\u001b[39m._exception = \u001b[38;5;28;01mTrue\u001b[39;00m\n",
      "\u001b[36mFile \u001b[39m\u001b[32m/nix/store/n7mxhqdpadrpg9a20bg6drqhl6pknvhk-python3-3.12.9-env/lib/python3.12/site-packages/joblib/parallel.py:1762\u001b[39m, in \u001b[36mParallel._retrieve\u001b[39m\u001b[34m(self)\u001b[39m\n\u001b[32m   1757\u001b[39m \u001b[38;5;66;03m# If the next job is not ready for retrieval yet, we just wait for\u001b[39;00m\n\u001b[32m   1758\u001b[39m \u001b[38;5;66;03m# async callbacks to progress.\u001b[39;00m\n\u001b[32m   1759\u001b[39m \u001b[38;5;28;01mif\u001b[39;00m ((\u001b[38;5;28mlen\u001b[39m(\u001b[38;5;28mself\u001b[39m._jobs) == \u001b[32m0\u001b[39m) \u001b[38;5;129;01mor\u001b[39;00m\n\u001b[32m   1760\u001b[39m     (\u001b[38;5;28mself\u001b[39m._jobs[\u001b[32m0\u001b[39m].get_status(\n\u001b[32m   1761\u001b[39m         timeout=\u001b[38;5;28mself\u001b[39m.timeout) == TASK_PENDING)):\n\u001b[32m-> \u001b[39m\u001b[32m1762\u001b[39m     \u001b[43mtime\u001b[49m\u001b[43m.\u001b[49m\u001b[43msleep\u001b[49m\u001b[43m(\u001b[49m\u001b[32;43m0.01\u001b[39;49m\u001b[43m)\u001b[49m\n\u001b[32m   1763\u001b[39m     \u001b[38;5;28;01mcontinue\u001b[39;00m\n\u001b[32m   1765\u001b[39m \u001b[38;5;66;03m# We need to be careful: the job list can be filling up as\u001b[39;00m\n\u001b[32m   1766\u001b[39m \u001b[38;5;66;03m# we empty it and Python list are not thread-safe by\u001b[39;00m\n\u001b[32m   1767\u001b[39m \u001b[38;5;66;03m# default hence the use of the lock\u001b[39;00m\n",
      "\u001b[31mKeyboardInterrupt\u001b[39m: "
     ]
    }
   ],
   "source": [
    "print(f\"Series length: {len(prices)}\")\n",
    "\n",
    "for name, ModelClass in models.items():\n",
    "    avg_mapes = []\n",
    "    print(f\"\\nEvaluating {name}...\")\n",
    "    for n in WINDOW_SIZES:\n",
    "        avg_mape = evaluate_model(ModelClass, prices, n)\n",
    "        avg_mapes.append(avg_mape)\n",
    "    results[name] = avg_mapes\n",
    "\n",
    "# Plotting\n",
    "plt.figure(figsize=(10, 6))\n",
    "for name in models:\n",
    "    plt.plot(WINDOW_SIZES, results[name], label=name)\n",
    "plt.xlabel(\"Window Size (n)\")\n",
    "plt.ylabel(\"Average MAPE (%)\")\n",
    "plt.title(\"Prediction Accuracy Comparison\")\n",
    "plt.legend()\n",
    "plt.grid(True)\n",
    "plt.show()\n"
   ]
  },
  {
   "cell_type": "code",
   "execution_count": 181,
   "metadata": {},
   "outputs": [
    {
     "data": {
      "text/plain": [
       "{'n': [1000], 'HMM': [np.float64(11.902312333230364)]}"
      ]
     },
     "execution_count": 181,
     "metadata": {},
     "output_type": "execute_result"
    }
   ],
   "source": [
    "results"
   ]
  }
 ],
 "metadata": {
  "kernelspec": {
   "display_name": "Python 3",
   "language": "python",
   "name": "python3"
  },
  "language_info": {
   "codemirror_mode": {
    "name": "ipython",
    "version": 3
   },
   "file_extension": ".py",
   "mimetype": "text/x-python",
   "name": "python",
   "nbconvert_exporter": "python",
   "pygments_lexer": "ipython3",
   "version": "3.12.9"
  }
 },
 "nbformat": 4,
 "nbformat_minor": 2
}
